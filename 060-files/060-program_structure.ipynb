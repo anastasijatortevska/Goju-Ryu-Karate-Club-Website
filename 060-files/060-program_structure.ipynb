{
 "cells": [
  {
   "cell_type": "markdown",
   "metadata": {
    "slideshow": {
     "slide_type": "slide"
    }
   },
   "source": [
    "## ENGI E1006: Introduction to Computing for Engineers and Applied Scientists\n",
    "---\n"
   ]
  },
  {
   "cell_type": "markdown",
   "metadata": {},
   "source": [
    "Now that we've learned the core elements of the Python programming language, we can begin to write more complicated programs. As the complexity of our programs increases, we'll use more advanced features of the language. But before we get there, we should learn how to structure our programs to manage complexity and to maximize readability and reuseability.\n",
    "\n",
    "\n",
    "### Program Structure\n",
    "\n",
    "When we first start out, we write our python files as if we are inputting commands to the REPL. Let's use our searching/sorting code from the last lecture as an example:\n",
    "\n",
    "<img src=\"assets/structure1.png\" width=600>\n",
    "\n",
    "This is fine for notes, but quickly becomes limitting. There is no reuseability of anything, and for even reasonably long programs it becomes very, very messy. So as a next step, we put things in functions, and we make a special function called the `main` function, which is the main entry point into our program. \n",
    "\n",
    "<img src=\"assets/structure2.png\" width=600>\n",
    "\n",
    "This is a slight improvement, but we still have issues. First, we have mixed our \"library\" functions with our main method. We also call `main()` directly in our file, meaning we can't reuse anything in this file anywhere else. Clearly we have more to do. \n",
    "\n",
    "We can solve the first issue by splitting our code up into multiple python (.py) files. Each file can be separately imported, and represents a **module**, a term we will learn in the next section. \n",
    "\n",
    "We can solve the second issue by relying on a special python variable present in every file, called `__name__`. When we run code, the module we give directly to python as the \"main\" will have `__name__ == \"__main__\"`, and every other file we import and use with have `__name__` equal to the name of the file. This makes our code even cleaner:\n",
    "\n",
    "<img src=\"assets/structure3.png\" width=600>\n",
    "\n",
    "We are *almost* done. This structure is great for all of the projects we will tackle in this course, but it has one big problem. Once we make a file called `search.py`, we expose a module called `search`. But then **no other modules may be called `search`!** The name of this file *masks* all others with the same name. In general, this problem is not solved (e.g. you can find many conflicting libraries that people have written that cannot both coexist). But we can make the problem much smaller by always putting our code into folders. With some slight modifications to our last example, we can have a perfect program structure. \n",
    "\n",
    "<img src=\"assets/structure4.png\" width=600>\n",
    "\n",
    "There are only some minor differences here. \n",
    "\n",
    "- All of our files are moved to a folder called `sequential_search`. This is the name that users will import to use our code.\n",
    "- To tell python that the folder contains our code, we put a special file called `__init__.py`. We can put any imports we want in here (or none at all!). Whatever we import here is exposed directly. We will see more about this in just a second.\n",
    "- We move our `main` function to a file called `__main__.py`. This is so that when people call `python -m sequential_search`, it executes this file\n",
    "\n",
    "\n",
    "With these modifications, we've written our first **library**, called `sequential_search`. Python has many libraries built in (we've already seen `random` and `math`), and has many developers writing open source libraries for every function imaginable. Because they all use this structure, it is very easy to get familiar with other people's work, and for many different libraries to rely on one another (so that everyone doesn't have to write stuff from scratch!)."
   ]
  },
  {
   "cell_type": "code",
   "execution_count": null,
   "metadata": {},
   "outputs": [],
   "source": []
  }
 ],
 "metadata": {
  "kernelspec": {
   "display_name": "Python 3",
   "language": "python",
   "name": "python3"
  },
  "language_info": {
   "codemirror_mode": {
    "name": "ipython",
    "version": 3
   },
   "file_extension": ".py",
   "mimetype": "text/x-python",
   "name": "python",
   "nbconvert_exporter": "python",
   "pygments_lexer": "ipython3",
   "version": "3.9.10"
  },
  "widgets": {
   "application/vnd.jupyter.widget-state+json": {
    "state": {},
    "version_major": 2,
    "version_minor": 0
   }
  }
 },
 "nbformat": 4,
 "nbformat_minor": 4
}
