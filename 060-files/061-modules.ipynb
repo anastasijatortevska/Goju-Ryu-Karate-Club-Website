{
 "cells": [
  {
   "cell_type": "markdown",
   "metadata": {
    "slideshow": {
     "slide_type": "slide"
    }
   },
   "source": [
    "## ENGI E1006: Introduction to Computing for Engineers and Applied Scientists\n",
    "---\n"
   ]
  },
  {
   "cell_type": "markdown",
   "metadata": {},
   "source": [
    "As we saw last lecture, the best way of organizing python code is into files or folders, and that the term for this importable format is called a **module**. We have already interacted with a few builtin modules:"
   ]
  },
  {
   "cell_type": "code",
   "execution_count": null,
   "metadata": {},
   "outputs": [],
   "source": [
    "import random\n",
    "import math"
   ]
  },
  {
   "cell_type": "markdown",
   "metadata": {},
   "source": [
    "### Basic Import\n",
    "\n",
    "When we do these imports, we create 2 new locally-defined variables `random` and `math`. If these are python files, then any variables defined at the top level in these files will be exposed. IF these are folders, than anything defined in the top level `__init__.py` or anything imported into it will be exposed. \n",
    "\n",
    "\n",
    "For example, let's say we write a file called `myfile.py`, with the following contents:\n",
    "\n",
    "```python\n",
    "from random import randint\n",
    "\n",
    "X = 5\n",
    "\n",
    "def foo():\n",
    "    return \"Yay!\"\n",
    "    \n",
    "```\n",
    "\n",
    "\n",
    "If we `import myfile`, we can access `myfile.X`, we can call `myfile.foo()`, and we can call `myfile.randint()` (because this variable has been exposed). \n",
    "\n",
    "If instead we created a folder called `myfile`, and `myfile/__init__.py` had the same contents, we'd have the same result. The benefit of organizing things in a folder is that you can choose what to import into the `__init__.py` file, and what to leave in a sub-file. \n",
    "\n",
    "\n",
    "So we see that `import module` creates a new variable representing `module`, and we can access anything defined inside `module`. \n",
    "\n",
    "### Selective Import\n",
    "We can also selectively import out of a module. For example, in the `myfile.py` example, we did the following line:\n",
    "\n",
    "```python\n",
    "from random import randint\n",
    "```\n",
    "\n",
    "This has the effect of saying \"pull the randint function out of the random module, and make it available here\". So rather than `random` being exposed as a local variable holding the entire module, only the `randint` function defined within `random` is exposed.\n",
    "\n",
    "It is possible, but bad style, to do the following:\n",
    "```python\n",
    "from random import *\n",
    "```\n",
    "This means \"take everything defined in `random` and expose it here\". Because we don't know explicitly all the variables in `random`, **you shouldn't do this**.\n",
    "\n",
    "Note that this import mechanism can cause some problems. Imagine the following lines:\n",
    "\n",
    "```python\n",
    "\n",
    "def randint():\n",
    "    return 1\n",
    "\n",
    "from random import randint\n",
    "```\n",
    "\n",
    "Because we execute top-to-bottom, and we import `randint` from `random` after we define a separate copy, we will no longer be able to call our custom `randint`. We call this **masking**, since one variable **masks** another. \n",
    "\n",
    "\n",
    "### Rename Import\n",
    "Sometimes modules and functions have very long names, and sometimes they can have names that conflict with other variables we want to use. Because of this, we can alias any import to a different variable:\n",
    "\n",
    "\n",
    "```python\n",
    "import math as m\n",
    "from random import randint as RI\n",
    "```\n",
    "\n",
    "In this code snippet, we create a new variable `m` representing the `math` module, and we expose a function `RI` which is equal to the same `randint` function from before. This can make it easier to compose functions from different modules together, even when names can conflict. \n"
   ]
  }
 ],
 "metadata": {
  "kernelspec": {
   "display_name": "Python 3",
   "language": "python",
   "name": "python3"
  },
  "language_info": {
   "codemirror_mode": {
    "name": "ipython",
    "version": 3
   },
   "file_extension": ".py",
   "mimetype": "text/x-python",
   "name": "python",
   "nbconvert_exporter": "python",
   "pygments_lexer": "ipython3",
   "version": "3.9.10"
  },
  "widgets": {
   "application/vnd.jupyter.widget-state+json": {
    "state": {},
    "version_major": 2,
    "version_minor": 0
   }
  }
 },
 "nbformat": 4,
 "nbformat_minor": 4
}
