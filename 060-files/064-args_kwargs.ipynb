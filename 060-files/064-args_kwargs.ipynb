{
 "cells": [
  {
   "cell_type": "markdown",
   "metadata": {
    "slideshow": {
     "slide_type": "slide"
    }
   },
   "source": [
    "## ENGI E1006: Introduction to Computing for Engineers and Applied Scientists\n",
    "---\n"
   ]
  },
  {
   "cell_type": "markdown",
   "metadata": {},
   "source": [
    "So far, the functions we've written have been very simple:"
   ]
  },
  {
   "cell_type": "code",
   "execution_count": null,
   "metadata": {},
   "outputs": [],
   "source": [
    "def f(celsius): \n",
    "    res =  celsius * 1.8 + 32\n",
    "    return res"
   ]
  },
  {
   "cell_type": "markdown",
   "metadata": {},
   "source": [
    "This function has 1 argument, which we must pass in. If we do not, we get an exception."
   ]
  },
  {
   "cell_type": "code",
   "execution_count": null,
   "metadata": {},
   "outputs": [],
   "source": [
    "f()"
   ]
  },
  {
   "cell_type": "markdown",
   "metadata": {},
   "source": [
    "We will consider the possibility of **default arguments** in just a bit, but first we need to learn how python passes arguments. \n",
    "\n",
    "\n",
    "### Keyword vs Positional arguments\n",
    "In python, we can either rely on the position of the argument, or its name.\n",
    "\n"
   ]
  },
  {
   "cell_type": "code",
   "execution_count": null,
   "metadata": {},
   "outputs": [],
   "source": [
    "def foo(a, b, c):\n",
    "    print(\"a[{}], b[{}], c[{}]\".format(a, b, c))"
   ]
  },
  {
   "cell_type": "markdown",
   "metadata": {},
   "source": [
    "When relying on the position of arguments, we simply align the arguments with their corresponding variables. So below, `1` gets represented by `a`, `2` gets represented by `b`, and `3` gets represented by `c`."
   ]
  },
  {
   "cell_type": "code",
   "execution_count": null,
   "metadata": {},
   "outputs": [],
   "source": [
    "foo(1, 2, 3)"
   ]
  },
  {
   "cell_type": "markdown",
   "metadata": {},
   "source": [
    "We can also rely on the names of these variables, which is called **keyword arguments**"
   ]
  },
  {
   "cell_type": "code",
   "execution_count": null,
   "metadata": {},
   "outputs": [],
   "source": [
    "foo(a=1, b=2, c=3)"
   ]
  },
  {
   "cell_type": "markdown",
   "metadata": {},
   "source": [
    "If we rely on the keywords, we can change the order of the arguments."
   ]
  },
  {
   "cell_type": "code",
   "execution_count": null,
   "metadata": {},
   "outputs": [],
   "source": [
    "foo(b=2, c=3, a=1)"
   ]
  },
  {
   "cell_type": "markdown",
   "metadata": {},
   "source": [
    "**Be careful!** If we mix keyword and positional, we need to make sure we are **unambiguous** in what variable is used for which input. In the example below, what should the variable `a` represent?"
   ]
  },
  {
   "cell_type": "code",
   "execution_count": null,
   "metadata": {},
   "outputs": [],
   "source": [
    "a = 1\n",
    "b = 2\n",
    "c = 3\n",
    "foo(a, b=b, c=c)"
   ]
  },
  {
   "cell_type": "markdown",
   "metadata": {},
   "source": [
    "Because it is ambiguous, we cannot do it this way. For similar reasons, we also must pass all positional arguments before any keyword arguments"
   ]
  },
  {
   "cell_type": "code",
   "execution_count": null,
   "metadata": {},
   "outputs": [],
   "source": [
    "foo(b=1, 2, 3)"
   ]
  },
  {
   "cell_type": "markdown",
   "metadata": {},
   "source": [
    "### Default arguments\n",
    "Default arguments are default values used when no corresponding values are passed in, and are defined using the keyword syntax during function definition\n"
   ]
  },
  {
   "cell_type": "code",
   "execution_count": null,
   "metadata": {},
   "outputs": [],
   "source": [
    "def foo(a, b=2, c=3):\n",
    "    print(\"a[{}], b[{}], c[{}]\".format(a, b, c))"
   ]
  },
  {
   "cell_type": "markdown",
   "metadata": {},
   "source": [
    "Just like before, we need to make sure that every time we call the function, it is unambiguous which value corresponds to which variable, but we have a lot of possible combinations"
   ]
  },
  {
   "cell_type": "code",
   "execution_count": null,
   "metadata": {},
   "outputs": [],
   "source": [
    "foo(1)"
   ]
  },
  {
   "cell_type": "code",
   "execution_count": null,
   "metadata": {},
   "outputs": [],
   "source": [
    "foo(a=4)"
   ]
  },
  {
   "cell_type": "code",
   "execution_count": null,
   "metadata": {},
   "outputs": [],
   "source": [
    "foo(1, c=5)"
   ]
  },
  {
   "cell_type": "code",
   "execution_count": null,
   "metadata": {},
   "outputs": [],
   "source": [
    "foo(1, 3, 5)"
   ]
  },
  {
   "cell_type": "code",
   "execution_count": null,
   "metadata": {},
   "outputs": [],
   "source": [
    "foo(b=3, c=2, a=1)"
   ]
  },
  {
   "cell_type": "markdown",
   "metadata": {},
   "source": [
    "### Variable arguments\n",
    "Sometimes we want to write functions with a variable number of arguments. We can use **tuple packing** and **dictionary packing** to accomplish this.\n",
    "\n",
    "We have already seen tuple packing:"
   ]
  },
  {
   "cell_type": "code",
   "execution_count": null,
   "metadata": {},
   "outputs": [],
   "source": [
    "x = 1, 2, 3\n",
    "x"
   ]
  },
  {
   "cell_type": "code",
   "execution_count": null,
   "metadata": {},
   "outputs": [],
   "source": [
    "a, b, c = x\n",
    "print(a)\n",
    "print(b)\n",
    "print(c)"
   ]
  },
  {
   "cell_type": "code",
   "execution_count": null,
   "metadata": {},
   "outputs": [],
   "source": [
    "x, y = 1, 2\n",
    "print(x)\n",
    "print(y)"
   ]
  },
  {
   "cell_type": "markdown",
   "metadata": {},
   "source": [
    "**Tuple packing** lets us *pack* multiple values into a tuple, and is useful when returning multiple values from a function.\n",
    "\n",
    "In the context of a function, we can use the `*` character to delineate that any subsequent **positional** arguments should be packed into a tuple.\n",
    "\n",
    "As an example:"
   ]
  },
  {
   "cell_type": "code",
   "execution_count": null,
   "metadata": {},
   "outputs": [],
   "source": [
    "def foo(a, *args):\n",
    "    print(\"a is: {}\".format(a))\n",
    "    print(\"args are: {}\".format(args))"
   ]
  },
  {
   "cell_type": "code",
   "execution_count": null,
   "metadata": {},
   "outputs": [],
   "source": [
    "foo(1)"
   ]
  },
  {
   "cell_type": "code",
   "execution_count": null,
   "metadata": {},
   "outputs": [],
   "source": [
    "foo(a=3)"
   ]
  },
  {
   "cell_type": "code",
   "execution_count": null,
   "metadata": {},
   "outputs": [],
   "source": [
    "foo(1, 2, 3, 4)"
   ]
  },
  {
   "cell_type": "code",
   "execution_count": null,
   "metadata": {},
   "outputs": [],
   "source": [
    "def sum(*args):\n",
    "    s = 0\n",
    "    for arg in args:\n",
    "        s += arg\n",
    "    return s"
   ]
  },
  {
   "cell_type": "code",
   "execution_count": null,
   "metadata": {},
   "outputs": [],
   "source": [
    "sum(1, 2, 3, 4, 2323423)\n"
   ]
  },
  {
   "cell_type": "markdown",
   "metadata": {},
   "source": [
    "Similarly, **Dictionary Packing** lets us *pack* multiple values into a dictionary. In this case, we use `**` to delineate that any subsequent keyword arguments should be packed into a dictionary. "
   ]
  },
  {
   "cell_type": "code",
   "execution_count": null,
   "metadata": {},
   "outputs": [],
   "source": [
    "def foo(a, **kwargs):\n",
    "    print(\"a is: {}\".format(a))\n",
    "    print(\"kwargs are: {}\".format(kwargs))"
   ]
  },
  {
   "cell_type": "code",
   "execution_count": null,
   "metadata": {},
   "outputs": [],
   "source": [
    "foo(1)"
   ]
  },
  {
   "cell_type": "code",
   "execution_count": null,
   "metadata": {},
   "outputs": [],
   "source": [
    "foo(a=3)"
   ]
  },
  {
   "cell_type": "code",
   "execution_count": null,
   "metadata": {},
   "outputs": [],
   "source": [
    "foo(a=1, b=2, c=3, d=4)"
   ]
  },
  {
   "cell_type": "markdown",
   "metadata": {},
   "source": [
    "Keeping in mind the caveat about **unambiguous calls**, we can combine the two to make extremely flexible functions"
   ]
  },
  {
   "cell_type": "code",
   "execution_count": null,
   "metadata": {},
   "outputs": [],
   "source": [
    "def foo(a, *args, **kwargs):\n",
    "    print(\"a is: {}\".format(a))\n",
    "    print(\"args are: {}\".format(args))\n",
    "    print(\"kwargs are: {}\".format(kwargs))"
   ]
  },
  {
   "cell_type": "code",
   "execution_count": null,
   "metadata": {},
   "outputs": [],
   "source": [
    "foo(1, 2, 3, d=4, e=5)"
   ]
  },
  {
   "cell_type": "markdown",
   "metadata": {},
   "source": [
    "### Why bother?\n",
    "Sometimes you want to build flexibility into your programs. Consider the following example. In it, we utilize **tuple packing** and **dictionary packing** to write a single function as an abstraction layer on top of our underlying functions. To call the underlying functions, we use **tuple unpacking** and **dictionary unpacking** to expand our packed variables back into arguments to the underlying functions"
   ]
  },
  {
   "cell_type": "code",
   "execution_count": null,
   "metadata": {},
   "outputs": [],
   "source": [
    "def foo(a, b):\n",
    "    return a + b\n",
    "\n",
    "def bar(a, b, which=\"multiply\"):\n",
    "    if which == \"multiply\":\n",
    "        return a * b\n",
    "    return a / b\n",
    "\n",
    "def choose(kind=\"foo\", *args, **kwargs):\n",
    "    \"\"\"args contains our a and b, while\n",
    "       kwargs will optionally contain the `which`\n",
    "       argument to bar\n",
    "    \"\"\"\n",
    "    if kind == \"foo\":\n",
    "        # unpack the arguments into foo\n",
    "        return foo(*args) # if args was (1, 2), this will call foo(1, 2)\n",
    "    else:\n",
    "        return bar(*args, **kwargs) # if args was (1, 2) and kwargs was {\"which\": \"multiply\"},\n",
    "                                    # this will call bar(1, 2, which=\"multiply\")\n"
   ]
  },
  {
   "cell_type": "code",
   "execution_count": null,
   "metadata": {},
   "outputs": [],
   "source": [
    "choose(\"foo\", 1, 2)  # executes foo(1, 2)"
   ]
  },
  {
   "cell_type": "code",
   "execution_count": null,
   "metadata": {},
   "outputs": [],
   "source": [
    "choose(\"bar\", 1, 2)  # executes bar(1, 2), using default which =\"multiply\""
   ]
  },
  {
   "cell_type": "code",
   "execution_count": null,
   "metadata": {},
   "outputs": [],
   "source": [
    "choose(\"bar\", b=1, a=2, which=\"divide\") # executes bar(b=1, a=2, which=\"divide\")"
   ]
  },
  {
   "cell_type": "code",
   "execution_count": null,
   "metadata": {},
   "outputs": [],
   "source": [
    "def foo(a, b):\n",
    "    print(a + b)\n",
    "\n",
    "x = (1, 2)\n",
    "foo(*x) # foo(1, 2)"
   ]
  },
  {
   "cell_type": "code",
   "execution_count": null,
   "metadata": {},
   "outputs": [],
   "source": [
    "foo(x) # foo( (1, 2)  )"
   ]
  },
  {
   "cell_type": "code",
   "execution_count": null,
   "metadata": {},
   "outputs": [],
   "source": [
    "x = {\"a\": 1, \"b\": 2}\n",
    "foo(**x) # foo(a=1, b=2)"
   ]
  },
  {
   "cell_type": "code",
   "execution_count": null,
   "metadata": {},
   "outputs": [],
   "source": [
    "foo(x) # foo({\"a\": 1, \"b\": 2})"
   ]
  },
  {
   "cell_type": "code",
   "execution_count": null,
   "metadata": {},
   "outputs": [],
   "source": [
    "def sum(*args):\n",
    "    s = 0\n",
    "    for arg in args:\n",
    "        s += arg\n",
    "    return s"
   ]
  },
  {
   "cell_type": "code",
   "execution_count": null,
   "metadata": {},
   "outputs": [],
   "source": [
    "sum(*[1, 2, 3]) # sum(1, 2, 3)"
   ]
  },
  {
   "cell_type": "code",
   "execution_count": null,
   "metadata": {},
   "outputs": [],
   "source": [
    "# \"Real\" why bother\n",
    "import pandas as pd\n",
    "df = pd.DataFrame(pd.util.testing.getTimeSeriesData())"
   ]
  },
  {
   "cell_type": "code",
   "execution_count": null,
   "metadata": {},
   "outputs": [],
   "source": [
    "df.plot(kind=\"line\", linewidth=.1)"
   ]
  },
  {
   "cell_type": "code",
   "execution_count": null,
   "metadata": {},
   "outputs": [],
   "source": [
    "df.plot(kind=\"bar\", linewidth=.1)"
   ]
  },
  {
   "cell_type": "code",
   "execution_count": null,
   "metadata": {},
   "outputs": [],
   "source": [
    "def buy_me_clothing(type, **kwargs):\n",
    "    '''\n",
    "    if type is shoes, the following arguments are expected: shoesize\n",
    "    if type is pants, the following arguments are expected: waist, inseam\n",
    "    '''\n",
    "    \n",
    "    if type == \"shoes\":\n",
    "        size = kwargs[\"shoesize\"]\n",
    "    elif type == \"pants\":\n",
    "        sizewaist, sizeinseam = kwargs[\"waist\"], kwargs[\"inseam\"]\n",
    "    ...\n",
    "     \n",
    "        "
   ]
  },
  {
   "cell_type": "code",
   "execution_count": null,
   "metadata": {},
   "outputs": [],
   "source": []
  }
 ],
 "metadata": {
  "kernelspec": {
   "display_name": "Python 3",
   "language": "python",
   "name": "python3"
  },
  "language_info": {
   "codemirror_mode": {
    "name": "ipython",
    "version": 3
   },
   "file_extension": ".py",
   "mimetype": "text/x-python",
   "name": "python",
   "nbconvert_exporter": "python",
   "pygments_lexer": "ipython3",
   "version": "3.9.10"
  },
  "widgets": {
   "application/vnd.jupyter.widget-state+json": {
    "state": {},
    "version_major": 2,
    "version_minor": 0
   }
  }
 },
 "nbformat": 4,
 "nbformat_minor": 4
}
