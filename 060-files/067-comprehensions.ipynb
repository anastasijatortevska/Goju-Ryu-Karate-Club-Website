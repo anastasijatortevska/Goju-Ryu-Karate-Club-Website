{
 "cells": [
  {
   "cell_type": "markdown",
   "metadata": {
    "slideshow": {
     "slide_type": "slide"
    }
   },
   "source": [
    "## ENGI E1006: Introduction to Computing for Engineers and Applied Scientists\n",
    "---\n"
   ]
  },
  {
   "cell_type": "markdown",
   "metadata": {},
   "source": [
    "The last basic python concept we will discuss formally is called **comprehensions**. These are not necessary to use, but can be very helpful to keep code clean. \n",
    "\n",
    "### List Comprehension\n",
    "\n",
    "Imagine I have a list:\n",
    "```python\n",
    "x = [1, 2, 3, 4, 5]\n",
    "```\n",
    "\n",
    "Now imagine I want to have only the even elements of the list. I can do the following:\n",
    "\n",
    "```python\n",
    "new_list = []\n",
    "for item in x:\n",
    "    if item % 2 == 0:\n",
    "        new_list.append(item)\n",
    "```\n",
    "\n",
    "This is ok, but requires a bunch of lines of code and an extra list. Instead, i can use a **list comprehension** to modify the list in a single line.\n",
    "\n",
    "Comprehensions take the following form:\n",
    "\n",
    "\n",
    "```\n",
    "[value if condition else other_value for item in original_list if filter_condition]\n",
    "```\n",
    "\n",
    "There are three components:\n",
    "\n",
    "`value if condition else other_value`\n",
    "This is whats called a **ternary statement**, and it lets us modify each of the elements of our list in place.\n",
    "\n",
    "`for item in original_list`\n",
    "This is a simple for loop that loops through the original list\n",
    "\n",
    "`if filter_condition`\n",
    "This last part lets us omit elements from our list\n",
    "\n",
    "While we always require the loop, we can utilize either the ternary statement, the filter condition, or both."
   ]
  },
  {
   "cell_type": "code",
   "execution_count": null,
   "metadata": {},
   "outputs": [],
   "source": [
    "x = [1, 2, 3, 4, 5]"
   ]
  },
  {
   "cell_type": "code",
   "execution_count": null,
   "metadata": {},
   "outputs": [],
   "source": [
    "# use the loop and the filter condition to omit odds\n",
    "only_evens = [value for value in x if value % 2 == 0]\n",
    "only_evens"
   ]
  },
  {
   "cell_type": "code",
   "execution_count": null,
   "metadata": {},
   "outputs": [],
   "source": [
    "replace_evens_with_0 = [0 if value % 2 == 0 else value for value in x]\n",
    "replace_evens_with_0"
   ]
  },
  {
   "cell_type": "code",
   "execution_count": null,
   "metadata": {},
   "outputs": [],
   "source": [
    "double_odds_and_omit_3 = [value*2 if value % 2 == 1 else value for value in x if value != 3 ]\n",
    "double_odds_and_omit_3"
   ]
  },
  {
   "cell_type": "markdown",
   "metadata": {},
   "source": [
    "### Dictionary Comprehension\n",
    "**Dictionary comprehensions** work largely the same, but result in a dictionary. Here is a simple example"
   ]
  },
  {
   "cell_type": "code",
   "execution_count": null,
   "metadata": {},
   "outputs": [],
   "source": [
    "x = [1, 2, 3, 4]\n",
    "y = {value: value**2 for value in x}\n",
    "y"
   ]
  },
  {
   "cell_type": "code",
   "execution_count": null,
   "metadata": {},
   "outputs": [],
   "source": [
    "# Remap even keys to inverse, omit odd keys\n",
    "remapped = {k:-1*k for k, v in y.items() if k % 2 == 0}\n",
    "remapped"
   ]
  },
  {
   "cell_type": "code",
   "execution_count": null,
   "metadata": {},
   "outputs": [],
   "source": [
    "y = False\n",
    "x = 5 if y else 7\n",
    "x"
   ]
  },
  {
   "cell_type": "code",
   "execution_count": null,
   "metadata": {},
   "outputs": [],
   "source": []
  }
 ],
 "metadata": {
  "kernelspec": {
   "display_name": "Python 3",
   "language": "python",
   "name": "python3"
  },
  "language_info": {
   "codemirror_mode": {
    "name": "ipython",
    "version": 3
   },
   "file_extension": ".py",
   "mimetype": "text/x-python",
   "name": "python",
   "nbconvert_exporter": "python",
   "pygments_lexer": "ipython3",
   "version": "3.9.10"
  },
  "widgets": {
   "application/vnd.jupyter.widget-state+json": {
    "state": {},
    "version_major": 2,
    "version_minor": 0
   }
  }
 },
 "nbformat": 4,
 "nbformat_minor": 4
}
