{
 "cells": [
  {
   "cell_type": "markdown",
   "metadata": {
    "slideshow": {
     "slide_type": "slide"
    }
   },
   "source": [
    "## ENGI E1006: Introduction to Computing for Engineers and Applied Scientists\n",
    "---\n"
   ]
  },
  {
   "cell_type": "markdown",
   "metadata": {},
   "source": [
    "To this point, we have primarily relied on `input` and `print` to get information in and out of our programs. More commonly, we will rely on files to get data in and out. \n",
    "\n",
    "A **file** is a collection of data that resides permanently on disk. It is independent of the program you're running. \n",
    "\n",
    "We often need to read and write data from files.\n",
    "\n",
    "A file has a **name** and a location in your **file system**. The location is called the **path** of the file. \n",
    "\n",
    "### File names\n",
    "On Mac and Unix systems, path names start with \"/\". This top-level contains a number of directory, such as \n",
    "\n",
    "/Users\n",
    "/bin\n",
    "/dev\n",
    "/etc\n",
    "/usr\n",
    "/var\n",
    "/tmp\n",
    "...\n",
    "\n",
    "These directories may live on the same physical disk, or they may be distributed over many disks or even live on a remote server. \n",
    "\n",
    "/Users/tim/test.txt  refers to a text file test.txt in the directory /Users/tim, which is the home directory for the user tim.\n",
    "\n",
    "\n",
    "In windows, files are organized according to the disk partition they live on. \n",
    "\n",
    "C:\\ is the name of the main partion that contains system files. Windows filenames use \\ to separate components of a path instead of /.\n",
    "\n",
    "### File extensions\n",
    "Most files have an extension (for example .txt) indicating the type and purpose of the file. Some operating systems hide file extensions, even though the extension is really part of the file. To open a file in Python you need to specify its full name. \n",
    "\n",
    "To force your operating system to display file extensions follow these steps: \n",
    "\n",
    " * OSX/macOS: https://support.apple.com/kb/PH25381\n",
    " * Windows: http://kb.winzip.com/kb/entry/26/"
   ]
  },
  {
   "cell_type": "markdown",
   "metadata": {},
   "source": [
    "### Text vs. Binary Files\n",
    "\n",
    "**Text files** are human readable. These files are encoded like Python string (often Unicode / UTF-8). You can view the content of a text file in any text editor. Python programs (.py) are text files. \n",
    "\n",
    "**Binary files** use some special coding scheme, for example multimedia files (.jpg, .png, .mp3, .pdf, ...) but also text with formatting (.docx) and compressed data (.zip, .tgz). If you open these files in a text editor, you will only see gibberish. \n",
    "\n",
    "We will mostly be working with text file. Special modules exist to work with many binary files, so you rarely have to write your own code to read or write these files (unless you invent your own binary format). "
   ]
  },
  {
   "cell_type": "markdown",
   "metadata": {},
   "source": [
    "### Reading from files\n",
    "\n",
    "To read from a file you first need to open it using the `open` function. \n",
    "\n",
    "`open` returns a **file object** (aka a *pipe*) that allows you to read (and/or write) from this specific file."
   ]
  },
  {
   "cell_type": "code",
   "execution_count": null,
   "metadata": {},
   "outputs": [],
   "source": [
    "test_file = open(\"file1.txt\", 'r')  # \"r\" means \"open for reading\" "
   ]
  },
  {
   "cell_type": "code",
   "execution_count": null,
   "metadata": {},
   "outputs": [],
   "source": [
    "test_file"
   ]
  },
  {
   "cell_type": "markdown",
   "metadata": {},
   "source": [
    "The `readline` method reads a single line, including the \\n at the end."
   ]
  },
  {
   "cell_type": "code",
   "execution_count": null,
   "metadata": {},
   "outputs": [],
   "source": [
    "line = test_file.readline()"
   ]
  },
  {
   "cell_type": "code",
   "execution_count": null,
   "metadata": {},
   "outputs": [],
   "source": [
    "line"
   ]
  },
  {
   "cell_type": "code",
   "execution_count": null,
   "metadata": {},
   "outputs": [],
   "source": [
    "line.strip()"
   ]
  },
  {
   "cell_type": "code",
   "execution_count": null,
   "metadata": {},
   "outputs": [],
   "source": [
    "test_file.readline()"
   ]
  },
  {
   "cell_type": "code",
   "execution_count": null,
   "metadata": {},
   "outputs": [],
   "source": [
    "test_file.readline() #Once end of file is reached readline returns empty string"
   ]
  },
  {
   "cell_type": "code",
   "execution_count": null,
   "metadata": {},
   "outputs": [],
   "source": [
    "test_file.seek(0)"
   ]
  },
  {
   "cell_type": "code",
   "execution_count": null,
   "metadata": {},
   "outputs": [],
   "source": [
    "test_file.readline()"
   ]
  },
  {
   "cell_type": "markdown",
   "metadata": {},
   "source": [
    "`readline` returns an empty string if there are no more lines in the file."
   ]
  },
  {
   "cell_type": "code",
   "execution_count": null,
   "metadata": {},
   "outputs": [],
   "source": [
    "test_file.readline() "
   ]
  },
  {
   "cell_type": "markdown",
   "metadata": {},
   "source": [
    "`close` closes the file object. Because only one program should be allowed to read or write from a file (why?), you should always close file objects when they are no longer needed. "
   ]
  },
  {
   "cell_type": "code",
   "execution_count": null,
   "metadata": {},
   "outputs": [],
   "source": [
    "test_file.close()"
   ]
  },
  {
   "cell_type": "code",
   "execution_count": null,
   "metadata": {},
   "outputs": [],
   "source": [
    "test_file.readline()"
   ]
  },
  {
   "cell_type": "markdown",
   "metadata": {},
   "source": [
    "You can also use a for loop to iterate through the lines of a file. "
   ]
  },
  {
   "cell_type": "code",
   "execution_count": null,
   "metadata": {},
   "outputs": [],
   "source": [
    "test_file = open(\"test.txt\",'r')\n",
    "\n",
    "for line in test_file: \n",
    "    print(line.strip()) # .strip() removes whitespaces, including the \\n\n",
    "    \n",
    "test_file.close()    "
   ]
  },
  {
   "cell_type": "code",
   "execution_count": null,
   "metadata": {},
   "outputs": [],
   "source": [
    "test_file = open(\"test.txt\",'r')\n",
    "line = test_file.readline()\n",
    "while line!='':\n",
    "    print(line.strip())\n",
    "    line = test_file.readline()\n"
   ]
  },
  {
   "cell_type": "markdown",
   "metadata": {},
   "source": [
    "One important features of file objects is that they are **buffered**. When you open a file, the operating system copies part of the file (or all of it) into main memory. Memory access is a lot faster than disk access."
   ]
  },
  {
   "cell_type": "markdown",
   "metadata": {},
   "source": [
    "### Writing to files\n",
    "\n",
    "To write to a file, we open it with the \"w\" option."
   ]
  },
  {
   "cell_type": "code",
   "execution_count": null,
   "metadata": {},
   "outputs": [],
   "source": [
    "test_file2 = open(\"test2.txt\", 'w') # \"w\" means \"open for writing\""
   ]
  },
  {
   "cell_type": "markdown",
   "metadata": {},
   "source": [
    "**Warning**: opening a file this way creates a NEW file. If the file already exists, the old file is overwritten and its contents are lost. Python will NOT ask you for confirmation."
   ]
  },
  {
   "cell_type": "markdown",
   "metadata": {},
   "source": [
    "We can now direct the output of `print` statements to this new file. "
   ]
  },
  {
   "cell_type": "code",
   "execution_count": null,
   "metadata": {},
   "outputs": [],
   "source": [
    "print(\"lorem ipsum\", file=test_file2)"
   ]
  },
  {
   "cell_type": "code",
   "execution_count": null,
   "metadata": {},
   "outputs": [],
   "source": [
    "print(\"dolor sit amet\", file=test_file2)"
   ]
  },
  {
   "cell_type": "code",
   "execution_count": null,
   "metadata": {},
   "outputs": [],
   "source": [
    "test_file2.close()"
   ]
  },
  {
   "cell_type": "markdown",
   "metadata": {},
   "source": [
    "The reason why print works with files just like it works to print something on the console is \n",
    "that *the console is also a file object* from the point of view of Python. "
   ]
  },
  {
   "cell_type": "code",
   "execution_count": null,
   "metadata": {},
   "outputs": [],
   "source": [
    "import sys\n",
    "sys.stdout"
   ]
  },
  {
   "cell_type": "code",
   "execution_count": null,
   "metadata": {},
   "outputs": [],
   "source": [
    "print(\"lorem ipsum\", file=sys.stdout)"
   ]
  },
  {
   "cell_type": "markdown",
   "metadata": {},
   "source": [
    "You can also use the `write` method to write to a file. "
   ]
  },
  {
   "cell_type": "code",
   "execution_count": null,
   "metadata": {},
   "outputs": [],
   "source": [
    "test_file2 = open(\"test2.txt\",'a')\n",
    "test_file2.write(\"consectetur adipiscing elit\\n\") # returns the number of characters written\n",
    "test_file2.write(\"some other line\\n\") # returns the number of characters written\n"
   ]
  },
  {
   "cell_type": "code",
   "execution_count": null,
   "metadata": {},
   "outputs": [],
   "source": [
    "test_file2.close()"
   ]
  },
  {
   "cell_type": "code",
   "execution_count": null,
   "metadata": {},
   "outputs": [],
   "source": []
  }
 ],
 "metadata": {
  "kernelspec": {
   "display_name": "Python 3",
   "language": "python",
   "name": "python3"
  },
  "language_info": {
   "codemirror_mode": {
    "name": "ipython",
    "version": 3
   },
   "file_extension": ".py",
   "mimetype": "text/x-python",
   "name": "python",
   "nbconvert_exporter": "python",
   "pygments_lexer": "ipython3",
   "version": "3.9.10"
  },
  "widgets": {
   "application/vnd.jupyter.widget-state+json": {
    "state": {},
    "version_major": 2,
    "version_minor": 0
   }
  }
 },
 "nbformat": 4,
 "nbformat_minor": 4
}
